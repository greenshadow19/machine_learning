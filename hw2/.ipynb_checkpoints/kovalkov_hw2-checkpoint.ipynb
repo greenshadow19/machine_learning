{
 "cells": [
  {
   "cell_type": "markdown",
   "metadata": {},
   "source": [
    "# Алгоритмы интеллектуальной обработки больших объемов данных\n",
    "## Домашнее задание №2: Линейные модели\n"
   ]
  },
  {
   "cell_type": "markdown",
   "metadata": {},
   "source": [
    "###### <hr\\>\n",
    "**Общая информация**\n",
    "\n",
    "**Срок сдачи:** 09 ноября 18:00 Сдача **очная** на онлайн занятии. <br\\>\n",
    "\n",
    "\n",
    "Используйте данный Ipython Notebook при оформлении домашнего задания.\n",
    "\n",
    "Присылать ДЗ необходимо в виде ссылки на свой github репозиторий на почту ml1.sphere@mail.ru с указанием темы в следующем формате:\n",
    "\n",
    "[ML0920, Задание 2] Фамилия Имя.\n",
    "\n",
    "\n",
    "\n",
    "**Штрафные баллы:**\n",
    "\n",
    "1. Невыполнение PEP8 -1 балл\n",
    "2. Отсутствие фамилии в имени скрипта (скрипт должен называться по аналогии со stroykova_hw2.ipynb) -1 балл\n",
    "3. Все строчки должны быть выполнены. Нужно, чтобы output команды можно было увидеть уже в git'е. В противном случае -1 балл\n",
    "4. При оформлении ДЗ нужно пользоваться данным файлом в качестве шаблона. Не нужно удалять и видоизменять написанный код и текст, если явно не указана такая возможность. В противном случае -1 балл\n",
    "<hr\\>"
   ]
  },
  {
   "cell_type": "code",
   "execution_count": 1,
   "metadata": {},
   "outputs": [],
   "source": [
    "import pandas as pd\n",
    "import numpy as np\n",
    "import matplotlib.pyplot as plt\n",
    "\n",
    "%matplotlib inline\n",
    "\n",
    "plt.style.use('ggplot')\n",
    "plt.rcParams['figure.figsize'] = (12, 5)"
   ]
  },
  {
   "cell_type": "markdown",
   "metadata": {},
   "source": [
    "Здравствуйте, уважаемые студенты! \n",
    "\n",
    "В этом задании мы будем реализовать линейные модели. Необходимо реализовать линейную и логистическую регрессии с L2 регуляризацией"
   ]
  },
  {
   "cell_type": "markdown",
   "metadata": {},
   "source": [
    "# Теоретическое введение\n",
    "\n"
   ]
  },
  {
   "cell_type": "markdown",
   "metadata": {},
   "source": [
    "Линейная регрессия решает задачу регрессии и оптимизирует функцию потерь MSE \n",
    "\n",
    "$$L(w) =  \\frac{1}{N}\\left[\\sum_i (y_i - a_i) ^ 2 \\right], $$ где $y_i$ $-$ целевая функция,  $a_i = a(x_i) =  \\langle\\,x_i,w\\rangle ,$ $-$ предсказание алгоритма на объекте $x_i$, $w$ $-$ вектор весов (размерности $D$), $x_i$ $-$ вектор признаков (такой же размерности $D$).\n",
    "\n",
    "Не забываем, что здесь и далее  мы считаем, что в $x_i$ есть тождественный вектор единиц, ему соответствует вес $w_0$.\n"
   ]
  },
  {
   "cell_type": "markdown",
   "metadata": {},
   "source": [
    "Логистическая регрессия является линейным классификатором, который оптимизирует так называемый функционал log loss:"
   ]
  },
  {
   "cell_type": "markdown",
   "metadata": {},
   "source": [
    "$$L(w) = - \\frac{1}{N}\\left[\\sum_i y_i \\log a_i + ( 1 - y_i) \\log (1 - a_i) \\right],$$\n",
    "где  $y_i  \\in \\{0,1\\}$ $-$ метка класса, $a_i$ $-$ предсказание алгоритма на объекте $x_i$. Модель пытается предсказать апостериорую вероятность объекта принадлежать к классу \"1\":\n",
    "$$ p(y_i = 1 | x_i) = a(x_i) =  \\sigma( \\langle\\,x_i,w\\rangle ),$$\n",
    "$w$ $-$ вектор весов (размерности $D$), $x_i$ $-$ вектор признаков (такой же размерности $D$).\n",
    "\n",
    "Функция $\\sigma(x)$ $-$ нелинейная функция, пероводящее скалярное произведение объекта на веса в число $\\in (0,1)$ (мы же моделируем вероятность все-таки!)\n",
    "\n",
    "$$\\sigma(x) = \\frac{1}{1 + \\exp(-x)}$$\n",
    "\n",
    "Если внимательно посмотреть на функцию потерь, то можно заметить, что в зависимости от правильного ответа алгоритм штрафуется или функцией $-\\log a_i$, или функцией $-\\log (1 - a_i)$.\n",
    "\n"
   ]
  },
  {
   "cell_type": "markdown",
   "metadata": {},
   "source": [
    "Часто для решения проблем, которые так или иначе связаны с проблемой переобучения, в функционал качества добавляют слагаемое, которое называют ***регуляризацией***. Итоговый функционал для линейной регрессии тогда принимает вид:\n",
    "\n",
    "$$L(w) =  \\frac{1}{N}\\left[\\sum_i (y_i - a_i) ^ 2 \\right] + \\frac{1}{C}R(w) $$\n",
    "\n",
    "Для логистической: \n",
    "$$L(w) = - \\frac{1}{N}\\left[\\sum_i y_i \\log a_i + ( 1 - y_i) \\log (1 - a_i) \\right] +  \\frac{1}{C}R(w)$$\n",
    "\n",
    "Самое понятие регуляризации введено основателем ВМК академиком Тихоновым https://ru.wikipedia.org/wiki/Метод_регуляризации_Тихонова\n",
    "\n",
    "Идейно методика регуляризации заключается в следующем $-$ мы рассматриваем некорректно поставленную задачу (что это такое можно найти в интернете), для того чтобы сузить набор различных вариантов (лучшие из которых будут являться переобучением ) мы вводим дополнительные ограничения на множество искомых решений. На лекции Вы уже рассмотрели два варианта регуляризации.\n",
    "\n",
    "$L1$ регуляризация:\n",
    "$$R(w) = \\sum_{j=1}^{D}|w_j|$$\n",
    "$L2$ регуляризация:\n",
    "$$R(w) =  \\sum_{j=1}^{D}w_j^2$$\n",
    "\n",
    "С их помощью мы ограничиваем модель в  возможности выбора каких угодно весов минимизирующих наш лосс, модель уже не сможет подстроиться под данные как ей угодно. \n",
    "\n",
    "Вам нужно добавить соотвествущую Вашему варианту $L2$ регуляризацию.\n",
    "\n",
    "И так, мы поняли, какую функцию ошибки будем минимизировать, разобрались, как получить предсказания по объекту и обученным весам. Осталось разобраться, как получить оптимальные веса. Для этого нужно выбрать какой-то метод оптимизации.\n",
    "\n"
   ]
  },
  {
   "cell_type": "markdown",
   "metadata": {},
   "source": [
    "Градиентный спуск является самым популярным алгоритмом обучения линейных моделей. В этом задании Вам предложат реализовать стохастический градиентный спуск или  мини-батч градиентный спуск (мини-батч на русский язык довольно сложно перевести, многие переводят это как \"пакетный\", но мне не кажется этот перевод удачным). Далее нам потребуется определение **эпохи**.\n",
    "Эпохой в SGD и MB-GD называется один проход по **всем** объектам в обучающей выборки.\n",
    "* В SGD градиент расчитывается по одному случайному объекту. Сам алгоритм выглядит примерно так:\n",
    "        1) Перемешать выборку\n",
    "        2) Посчитать градиент функции потерь на одном объекте (далее один объект тоже будем называть батчем)\n",
    "        3) Сделать шаг спуска\n",
    "        4) Повторять 2) и 3) пока не пройдет максимальное число эпох.\n",
    "* В Mini Batch SGD - по подвыборке объектов. Сам алгоритм выглядит примерно так::\n",
    "        1) Перемешать выборку, выбрать размер мини-батча (от 1 до размера выборки)\n",
    "        2) Почитать градиент функции потерь по мини-батчу (не забыть поделить на  число объектов в мини-батче)\n",
    "        3) Сделать шаг спуска\n",
    "        4) Повторять 2) и 3) пока не пройдет максимальное число эпох.\n",
    "* Для отладки алгоритма реализуйте возможность  вывода средней ошибки на обучении модели по объектам (мини-батчам). После шага градиентного спуска посчитайте значение ошибки на объекте (или мини-батче), а затем усредните, например, по ста шагам. Если обучение проходит корректно, то мы должны увидеть, что каждые 100 шагов функция потерь уменьшается. \n",
    "* Правило останова - максимальное количество эпох\n",
    "    \n"
   ]
  },
  {
   "cell_type": "markdown",
   "metadata": {},
   "source": [
    "# Теоретические вопросы (2 балла)\n",
    "В этой части Вам будут предложены теоретичские вопросы и задачи по теме. Вы, конечно, можете списать их у своего товарища или найти решение в интернете, но учтите, что они обязательно войдут в теоретический коллоквиум. Лучше разобраться в теме сейчас и успешно ответить на коллоквиуме, чем списать, не разобравшись в материале, и быть терзаемым совестью. \n",
    "\n",
    "\n",
    "Формулы надо оформлять в формате **LaTeX**."
   ]
  },
  {
   "cell_type": "markdown",
   "metadata": {},
   "source": [
    "Задача 1. Градиент для линейной регрессии.\n",
    "* Выпишите формулу обновления весов для линейной регрессии с L2 регуляризацией для мини-батч градиентого спуска размера $n$:\n",
    "\n",
    "$$ w_{new} = w_{old} - ... $$\n",
    "\n",
    " Отнеситесь к этому пункту максимально серьезно, это Вам нужно будет реализовать в задании.\n",
    " \n",
    "Проанализруйте итоговую формулу градиента - как  интуитивно можно  описать, чему равен градиент?"
   ]
  },
  {
   "cell_type": "markdown",
   "metadata": {},
   "source": [
    "***Ваше решение здесь***"
   ]
  },
  {
   "cell_type": "markdown",
   "metadata": {},
   "source": [
    "Мини-батч градиентный спуск определяется формулой:\n",
    "$$\n",
    "    w_{new} = w_{old} - \\alpha \\nabla_{w} Q^{*}(w_{old})\n",
    "$$\n",
    "\n",
    "В случае `L2` регуляризации функционал качества Q дается формулой:\n",
    "\n",
    "$$\n",
    "    Q(w) =  \\frac{1}{N}\\left[\\sum_{i=1}^N (y_i - \\langle\\,x_i,w\\rangle ) ^ 2 \\right] +  \\frac{1}{C}\\sum_{j=1}^{D}w_j^2\n",
    "$$\n",
    "\n",
    "Упростим вид этой формулы, используя обозначения $L(w, x_i, y_i)$ и $R(w)$\n",
    "$$\n",
    "    Q(w) =  \\frac{1}{N}\\sum_{i=1}^N L(w, x_i, y_i) + \\frac{1}{C}R(w)\n",
    "$$\n",
    "\n",
    "Мы используем мини-батч градиентный спуск, то есть считаем не весь градиент Q, а оцениваем его по $n$ слагаемым. Тогда первое слагаемое примет вид:\n",
    "\n",
    "$$\n",
    "   \\frac{1}{n} \\sum_{j=1}^n \\nabla L(w_{old}, x_j, y_j) =  \\frac{1}{n} \\sum_{j=1}^n \\nabla_{w} (y_i - \\langle\\,x_j,w_{old}\\rangle ) ^ 2 =  \\frac{2}{n}\\sum_{j=1}^n (y_i - \\langle\\,x_j,w_{old}\\rangle ) x_j\n",
    "$$\n",
    "\n",
    "Теперь посчитаем градиент от регуляризатора:\n",
    "$$\n",
    "\\nabla_w R(w) = \\nabla_w \\sum_{j=1}^D w_j^2 \n",
    "$$\n",
    "В итоговый градиент войдут только те компоненты суммы, соответствующие координатам в векторе, то есть:\n",
    "$$\n",
    "\\nabla_{w} R(w) = 2w\n",
    "$$\n",
    "\n",
    "Тогда итоговый градиент равен\n",
    "$$\n",
    "    \\nabla_{w} Q^{*}(w_{old}) = \\frac{2}{n} \\sum_{j=1}^n (\\langle\\,x_j,w_{old}\\rangle - y_j)x_j + \\frac{2}{C} w_{old}\n",
    "$$\n",
    "\n",
    "А формула для обновления весов примет вид:\n",
    "$$\n",
    "    w_{new} = w_{old} - 2 \\alpha \\left[\\frac{1}{n} \\sum_{j=1}^n (\\langle\\,x_j,w_{old}\\rangle - y_j)x_j + \\frac{1}{C}w_{old}\\right]\n",
    "$$"
   ]
  },
  {
   "cell_type": "markdown",
   "metadata": {},
   "source": [
    "Задача 2. Градиент для логистической регрессии.\n",
    "* Выпишите формулу обновления весов для логистической регрессии с L2 регуляризацией  для мини-батч градиентого спуска размера $n$:\n",
    "\n",
    "$$ w_{new} = w_{old} - ... $$\n",
    "\n",
    " Отнеситесь к этому пункту максимально серьезно, это Вам нужно будет реализовать в задании.\n",
    " \n",
    "Проанализруйте итоговую формулу градиента - как  интуитивно можно  описать, чему равен градиент? Как соотносится этот градиент с градиентом, возникающий в задаче линейной регрессии?\n",
    "\n",
    "Подсказка: Вам градиент, которой получается если “в лоб” продифференцировать,  надо немного преобразовать.\n",
    "Надо подставить, что $1 - \\sigma(w,x) $ это  $1 - a(x_i)$, а  $-\\sigma(w,x)$ это $0 - a(x_i)$.  Тогда получится свести к одной красивой формуле с линейной регрессией, которую программировать будет намного проще."
   ]
  },
  {
   "cell_type": "markdown",
   "metadata": {},
   "source": [
    "***Ваше решение здесь***"
   ]
  },
  {
   "cell_type": "markdown",
   "metadata": {},
   "source": [
    "Функционал качества определен следующей формулой:\n",
    "$$Q(w) = - \\frac{1}{N}\\left[\\sum_i y_i \\log a_i + ( 1 - y_i) \\log (1 - a_i) \\right] +  \\frac{1}{C}R(w)$$\n",
    "где \n",
    "$$\n",
    "a_i = \\sigma (\\langle \\vec{x}_i,\\vec{w}\\rangle)\n",
    "$$\n",
    "где в свою очередь\n",
    "$$\n",
    "    \\sigma(x) = \\frac{1}{1+e^{-x}}\n",
    "$$\n",
    "Сначала посчитаем производную сигмоиды:\n",
    "$$\n",
    "    \\frac{d\\sigma}{dx} = \\frac{e^{-x}}{(1+e^{-x})^2} = \\frac{1}{1+e^{-x}} \\cdot \\frac{e^{-x}}{1+e^{-x}} = \\sigma (1-\\sigma)\n",
    "$$\n",
    "Градиент регуляризатора посчитан нами в предыдущей части. Поэтому определим градиент функции потерь:\n",
    "\n",
    "$$\n",
    "\\nabla_{w} \\left(- \\left[y_i \\log  \\sigma (\\langle x_i,w\\rangle) + ( 1 - y_i) \\log (1 -  \\sigma (\\langle x_i,w\\rangle)) \\right]\\right) =\n",
    "$$\n",
    "\n",
    "$$\n",
    " =  - y_i\\frac{(1-\\sigma)\\sigma}{\\sigma}x_i + (1-y_i)\\frac{(1-\\sigma)\\sigma}{1-\\sigma}x_i =\n",
    "$$\n",
    "\n",
    "$$\n",
    "= y_i x_i(1-\\sigma) - (1-y_i)\\sigma x_i=\n",
    "$$\n",
    "\n",
    "$$\n",
    " = (\\sigma-y_i) x_i \n",
    "$$\n",
    "\n",
    "Итого:\n",
    "\n",
    "$$ w_{new} = w_{old} -   \\alpha \\left[ \\frac{1}{n}\\sum_{i=1}^n (\\frac{1}{1+e^{-\\langle x_i,w\\rangle}}-y_i) x_i  +  \\frac{2}{C}w_{old} \\right] $$\n",
    "\n",
    "Используя фунцию $a_i$ мы можем упростить выражение:\n",
    "$$ w_{new} = w_{old} -  2 \\alpha \\left[\\frac{1}{2n} \\sum_{i=1}^n (a_i-y_i) x_i  +  w_{old} \\right] $$\n",
    "\n",
    "То есть общая формула для предыдущих заданий:\n",
    "\n",
    "$$ \n",
    "w_{new} = w_{old} -  2 \\alpha \\left[\\frac{C_1}{n} \\sum_{i=1}^n (a_i-y_i) x_i  +  w_{old} \\right] \n",
    "$$\n",
    "\n",
    "где \n",
    "$$\n",
    "C_1 = \\begin{cases} 1, \\text{linear}\\\\ \\frac12, \\text{logistic}\\end{cases}\n",
    "$$"
   ]
  },
  {
   "cell_type": "markdown",
   "metadata": {},
   "source": [
    "Задача 3. Точное решение линейной регрессии\n",
    "\n",
    "На лекции было показано, что точное решение линейной регрессии имеет вид $w = (X^TX)^{-1}X^TY $. \n",
    "* Покажите, что это действительно является точкой минимума в случае, если матрица X имеет строк не меньше, чем столбцов и имеет полный ранг. Подсказка: посчитайте Гессиан и покажите, что в этом случае он положительно определен. \n",
    "* Выпишите точное решение для модели с $L2$ регуляризацией. Как L2 регуляризация помогает с точным решением где матрица X имеет линейно зависимые признаки?"
   ]
  },
  {
   "cell_type": "markdown",
   "metadata": {},
   "source": [
    "***Ваше решение здесь***"
   ]
  },
  {
   "cell_type": "markdown",
   "metadata": {},
   "source": [
    "Посчитаем гессиан функционала Q(w). Для этого сначала посчитаем производную по $i$ компоненте:\n",
    "\n",
    "$$\n",
    "\\frac{\\partial Q }{\\partial w_i} = \\frac{\\partial}{\\partial w_i} \\left[ \\frac{1}{N}\\sum_{i=1}^N (X_i w_i - y_i)^2\\right] =  \n",
    "$$\n",
    "\n",
    "$$\n",
    "= \\frac{2}{N} X^T_i \\sum_{i=1}^N  (X_i w_i - y_i)\n",
    "$$\n",
    "\n",
    "Теперь посчитаем вторую производную по $j$-ой компоненте:\n",
    "\n",
    "$$\n",
    "\\frac{\\partial^2 Q }{\\partial w_j\\partial w_i} = \\frac{2}{N} X^T_i  X_j\n",
    "$$\n",
    "\n",
    "Таким образом, гессиан $H(Q)$:\n",
    "$$\n",
    "    H(Q) = \\frac{2}{N} X^T X\n",
    "$$\n",
    "\n",
    "Рассмотрим произвольный вектор в вектороном пространстве размерности $N$:\n",
    "$$\n",
    "z \\in V^{N} \\rightarrow \\frac{2}{N} z^T X^T X z \\geq 0\n",
    "$$\n",
    "так как X имеет полный ранг и строк, не меньше, чем столбцов и следовательно гессиан положительно определен."
   ]
  },
  {
   "cell_type": "markdown",
   "metadata": {},
   "source": [
    "В случае $L2$ регуляризации Q(w) имеет вид:\n",
    "\n",
    "$$\n",
    "Q(w) = \\frac{1}{N} (Xw-y)^T (Xw-y) + \\frac{1}{C} w^T w\n",
    "$$\n",
    "\n",
    "$$\n",
    "    \\nabla Q(w) = 0\n",
    "$$\n",
    "\n",
    "$$\n",
    "    \\nabla Q(w) = \\frac{2}{N} (X^T X w - X^T y) + \\frac{2}{C} w\n",
    "$$\n",
    "\n",
    "Откуда следует, что точное решение определяется следующим соотношением:\n",
    "$$\n",
    "    w = (X^T X + \\frac{1}{C}I)^{-1} X^T y\n",
    "$$\n",
    "\n",
    "Заметим, что в случае линейно зависимых признаков, $X^T X$ является необратимой матрицей и без регуляризации мы не смогли бы отыскать точное аналитическое решение, однако, регуляризация позволяет нам это сделать."
   ]
  },
  {
   "cell_type": "markdown",
   "metadata": {},
   "source": [
    "Задача 4.  Предсказываем вероятности.\n",
    "\n",
    "Когда говорят о логистической регрессии, произносят фразу, что она \"предсказывает вероятности положительного класса\". Давайте разберемся, что же за этим стоит. Посчитаем математическое ожидание функции потерь и проверим, что предсказание алгоритма, оптимизирующее это мат. ожидание, будет являться вероятностью положительного класса. \n",
    "\n",
    "И так, функция потерь на объекте $x_i$, который имеет метку $y_i \\in \\{0,1\\}$  для предсказания $a(x_i)$ равна:\n",
    "$$L(y_i, b) =-[y_i == 1] \\log a(x_i)  - [y_i == 0] \\log(1 - a(x_i)) $$\n",
    "\n",
    "Где $[]$ означает индикатор $-$ он равен единице, если значение внутри него истинно, иначе он равен нулю. Тогда мат. ожидание при условии конкретного $x_i$  по определение мат. ожидания дискретной случайной величины:\n",
    "$$E(L | x_i) = -p(y_i = 1 |x_i ) \\log a(x_i)  - p(y_i = 0 | x_i) \\log( 1 - a(x_i))$$\n",
    "* Докажите, что значение $a(x_i)$, минимизирующее данное мат. ожидание, в точности равно $p(y_i = 1 |x_i)$, то есть равно вероятности положительного класса.\n",
    "\n",
    "Подсказка: возможно, придется воспользоваться, что  $p(y_i = 1 | x_i) + p(y_i = 0 | x_i) = 1$"
   ]
  },
  {
   "cell_type": "markdown",
   "metadata": {},
   "source": [
    "***Ваше решение здесь***"
   ]
  },
  {
   "cell_type": "markdown",
   "metadata": {},
   "source": [
    "Выразим $p(y_i = 0 | x_i)$ через $p(y_i = 1 | x_i)$ и подставим в выражение для математического ожидания:\n",
    "\n",
    "$$\n",
    "E(L | x_i) = -p(y_i = 1 |x_i ) \\log a(x_i)  - (1-p(y_i = 1 | x_i)) \\log( 1 - a(x_i))\n",
    "$$\n",
    "\n",
    "Посчитаем первую производную:\n",
    "$$\n",
    "\\frac{\\partial E(L | x_i)}{\\partial a} = - \\frac{p(y_i = 1 | x_i)}{a(x_i)}  + \\frac{1-p(y_i = 1 | x_i)}{1-a(x_i)} = \\frac{a(x_i) - p(y_i = 1 | x_i)}{ (1- a(x_i)) a(x_i)}\n",
    "$$\n",
    "Приравняв к нулю находим, что:\n",
    "$$\n",
    "a(x_i) = p(y_i = 1 | x_i)\n",
    "$$\n",
    "\n",
    "Посчитаем вторую производную:\n",
    "$$\n",
    "\\frac{\\partial^2 E(L | x_i)}{\\partial a^2} = \\frac{p(y_i = 1 | x_i)}{a^2(x_i)} + \\frac{1-p(y_i = 1 | x_i)}{(1-a(x_i))^2}\n",
    "$$\n",
    "Подставив туда полученное значение $a(x_i)$, получим:\n",
    "$$\n",
    "\\frac{\\partial^2 E(L | x_i)}{\\partial a^2}\\bigg|_{a(x_i) = p(y_i = 1 | x_i)} = \\frac{1}{p(y_i = 1 | x_i)} + \\frac{1}{(1-p(y_i = 1 | x_i))} > 0\n",
    "$$"
   ]
  },
  {
   "cell_type": "markdown",
   "metadata": {},
   "source": [
    "Задача 5.  Смысл регуляризации.\n",
    "\n",
    "Нужно ли в L1/L2 регуляризации использовать свободный член $w_0$ (который не умножается ни на какой признак)?\n",
    "\n",
    "Подсказка: подумайте, для чего мы вводим $w_0$"
   ]
  },
  {
   "cell_type": "markdown",
   "metadata": {},
   "source": [
    "***Ваше решение здесь***"
   ]
  },
  {
   "cell_type": "markdown",
   "metadata": {},
   "source": [
    "$w_0$ отвечает за смещение предсказания относительно начала координат, а не за сложность модели, поэтому его не нужно регуляризовать"
   ]
  },
  {
   "cell_type": "markdown",
   "metadata": {},
   "source": [
    "#  Реализация линейной модели (4 балла)"
   ]
  },
  {
   "cell_type": "markdown",
   "metadata": {},
   "source": [
    "## Зачем нужны батчи?\n"
   ]
  },
  {
   "cell_type": "markdown",
   "metadata": {},
   "source": [
    "Как Вы могли заметить из теоретического введения, что в случае SGD, что в случа mini-batch GD,  на каждой итерации обновление весов  происходит только по небольшой части данных (1 пример в случае SGD, batch примеров в случае mini-batch). То есть для каждой итерации нам *** не нужна вся выборка***. Мы можем просто итерироваться по выборке, беря батч нужного размера (далее 1 объект тоже будем называть батчом).\n",
    "\n",
    "Легко заметить, что в этом случае нам не нужно загружать все данные в оперативную память, достаточно просто считать батч с диска, обновить веса, считать диска другой батч и так далее. В целях упрощения домашней работы, прямо с диска  мы считывать не будем, будем работать с обычными numpy array. \n",
    "\n",
    "\n",
    "\n"
   ]
  },
  {
   "cell_type": "markdown",
   "metadata": {},
   "source": [
    "## Немножко про генераторы в Python\n",
    "\n"
   ]
  },
  {
   "cell_type": "markdown",
   "metadata": {},
   "source": [
    "Идея считывания данных кусками удачно ложится на так называемые ***генераторы*** из языка Python. В данной работе Вам предлагается не только разобраться с логистической регрессией, но  и познакомиться с таким важным элементом языка.  При желании Вы можете убрать весь код, связанный с генераторами, и реализовать логистическую регрессию и без них, ***штрафоваться это никак не будет***. Главное, чтобы сама модель была реализована правильно, и все пункты были выполнены. \n",
    "\n",
    "Подробнее можно почитать вот тут https://anandology.com/python-practice-book/iterators.html\n"
   ]
  },
  {
   "cell_type": "markdown",
   "metadata": {},
   "source": [
    "К генератору стоит относиться просто как к функции, которая порождает не один объект, а целую последовательность объектов. Новое значение из последовательности генерируется с помощью ключевого слова ***yield***. Ниже Вы можете насладиться  генератором чисел Фибоначчи."
   ]
  },
  {
   "cell_type": "code",
   "execution_count": 2,
   "metadata": {},
   "outputs": [],
   "source": [
    "def fib(max_iter=4):\n",
    "    a, b = 0, 1\n",
    "    iter_num = 0\n",
    "    while 1:\n",
    "        yield a\n",
    "        a, b = b, a + b\n",
    "        iter_num += 1\n",
    "        if iter_num == max_iter:\n",
    "            break"
   ]
  },
  {
   "cell_type": "markdown",
   "metadata": {},
   "source": [
    "Вот так можно сгенерировать последовательность Фибоначчи. \n",
    "\n",
    "Заметьте, что к генераторам можно применять некоторые стандартные функции из Python, например enumerate."
   ]
  },
  {
   "cell_type": "code",
   "execution_count": 3,
   "metadata": {},
   "outputs": [
    {
     "name": "stdout",
     "output_type": "stream",
     "text": [
      "Fib num: 0 fib values: 0\n",
      "Fib num: 1 fib values: 1\n",
      "Fib num: 2 fib values: 1\n",
      "Fib num: 3 fib values: 2\n"
     ]
    }
   ],
   "source": [
    "new_generator = fib()\n",
    "for j, fib_val in enumerate(new_generator):\n",
    "    print(\"Fib num: \" + str(j) + \" fib values: \" + str(fib_val))"
   ]
  },
  {
   "cell_type": "markdown",
   "metadata": {},
   "source": [
    "Пересоздавая объект, можно сколько угодно раз генерировать заново последовательность. "
   ]
  },
  {
   "cell_type": "code",
   "execution_count": 4,
   "metadata": {},
   "outputs": [
    {
     "name": "stdout",
     "output_type": "stream",
     "text": [
      "Fib num: 0 fib values: 0\n",
      "Fib num: 1 fib values: 1\n",
      "Fib num: 2 fib values: 1\n",
      "Fib num: 3 fib values: 2\n",
      "Fib num: 0 fib values: 0\n",
      "Fib num: 1 fib values: 1\n",
      "Fib num: 2 fib values: 1\n",
      "Fib num: 3 fib values: 2\n",
      "Fib num: 0 fib values: 0\n",
      "Fib num: 1 fib values: 1\n",
      "Fib num: 2 fib values: 1\n",
      "Fib num: 3 fib values: 2\n"
     ]
    }
   ],
   "source": [
    "for i in range(0, 3):\n",
    "    new_generator = fib()\n",
    "    for j, fib_val in enumerate(new_generator):\n",
    "        print(\"Fib num: \" + str(j) + \" fib values: \" + str(fib_val))"
   ]
  },
  {
   "cell_type": "markdown",
   "metadata": {},
   "source": [
    "А вот так уже нельзя."
   ]
  },
  {
   "cell_type": "code",
   "execution_count": 5,
   "metadata": {},
   "outputs": [
    {
     "name": "stdout",
     "output_type": "stream",
     "text": [
      "Fib num: 0 fib values: 0\n",
      "Fib num: 1 fib values: 1\n",
      "Fib num: 2 fib values: 1\n",
      "Fib num: 3 fib values: 2\n"
     ]
    }
   ],
   "source": [
    "new_generator = fib()\n",
    "for i in range(0, 3):\n",
    "    for j, fib_val in enumerate(new_generator):\n",
    "        print(\"Fib num: \" + str(j) + \" fib values: \" + str(fib_val))"
   ]
  },
  {
   "cell_type": "markdown",
   "metadata": {},
   "source": [
    "Концепция крайне удобная для обучения  моделей $-$ у Вас есть некий источник данных, который Вам выдает их кусками, и Вам совершенно все равно откуда он их берет. Под ним может скрывать как массив в оперативной памяти, как файл на жестком диске, так и SQL база данных. Вы сами данные никуда не сохраняете, оперативную память экономите."
   ]
  },
  {
   "cell_type": "markdown",
   "metadata": {},
   "source": [
    "Если Вам понравилась идея с генераторами, то Вы можете реализовать свой, используя прототип batch_generator. В нем Вам нужно выдавать батчи признаков и ответов для каждой новой итерации спуска. Если не понравилась идея, то можете реализовывать SGD или mini-batch GD без генераторов."
   ]
  },
  {
   "cell_type": "code",
   "execution_count": 6,
   "metadata": {},
   "outputs": [],
   "source": [
    "def batch_generator(X, y, shuffle=True, batch_size=1):\n",
    "    \"\"\"\n",
    "    Гератор новых батчей для обучения\n",
    "    X          - матрица объекты-признаки\n",
    "    y_batch    - вектор ответов\n",
    "    shuffle    - нужно ли случайно перемешивать выборку\n",
    "    batch_size - размер батча ( 1 это SGD, > 1 mini-batch GD)\n",
    "    Генерирует подвыборку для итерации спуска (X_batch, y_batch)\n",
    "    \"\"\"\n",
    "    X_ = np.copy(X)\n",
    "    y_ = np.copy(y)\n",
    "\n",
    "    if shuffle:\n",
    "        index = np.random.permutation(len(y))\n",
    "        X_ = X[index]\n",
    "        y_ = y[index]\n",
    "    for i in range(0, np.size(y_), batch_size):\n",
    "        X_batch = X_[i:i+batch_size]\n",
    "        y_batch = y_[i:i+batch_size]\n",
    "        yield (X_batch, y_batch)\n",
    "\n",
    "# Теперь можно сделать генератор по данным ()\n",
    "#  my_batch_generator = batch_generator(X, y, shuffle=True, batch_size=1):"
   ]
  },
  {
   "cell_type": "code",
   "execution_count": 7,
   "metadata": {},
   "outputs": [],
   "source": [
    "from sklearn.base import BaseEstimator, ClassifierMixin\n",
    "\n",
    "\n",
    "def sigmoid(x):\n",
    "    \"\"\"\n",
    "    Вычисляем значение сигмоида.\n",
    "    X - выход линейной модели\n",
    "    \"\"\"\n",
    "\n",
    "    # Your code Here\n",
    "    return 1/(1+np.exp(-x))\n",
    "\n",
    "\n",
    "class MySGDClassifier(BaseEstimator, ClassifierMixin):\n",
    "\n",
    "    def __init__(self, batch_generator, C=1, alpha=0.01, max_epoch=10, model_type='lin_reg', batch_size=1, threshold=0.5):\n",
    "        \"\"\"\n",
    "        batch_generator -- функция генератор, которой будем создавать батчи\n",
    "        C - коэф. регуляризации\n",
    "        alpha - скорость спуска\n",
    "        max_epoch - максимальное количество эпох\n",
    "        model_type - тим модели, lin_reg или log_reg\n",
    "        \"\"\"\n",
    "\n",
    "        self.C = C\n",
    "        self.alpha = alpha\n",
    "        self.max_epoch = max_epoch\n",
    "        self.batch_generator = batch_generator\n",
    "        self.errors_log = {'iter': [], 'loss': []}\n",
    "        self.model_type = model_type\n",
    "        self.batch_size = batch_size\n",
    "        self.threshold = threshold\n",
    "\n",
    "    def calc_loss(self, X_batch, y_batch):\n",
    "        \"\"\"\n",
    "        Считаем функцию потерь по батчу \n",
    "        X_batch - матрица объекты-признаки по батчу\n",
    "        y_batch - вектор ответов по батчу\n",
    "        Не забудте тип модели (линейная или логистическая регрессия)!\n",
    "        \"\"\"\n",
    "        # Добавим единичный признак\n",
    "        X_batch = np.hstack(\n",
    "            (np.ones(X_batch.shape[0]).reshape(X_batch.shape[0], -1), X_batch))\n",
    "\n",
    "        if self.model_type == 'lin_reg':\n",
    "            y_pred = np.dot(X_batch, self.weights)\n",
    "            loss = np.mean((y_batch - y_pred)**2)\n",
    "        else:\n",
    "            y_pred = sigmoid(np.dot(X_batch, self.weights))\n",
    "            loss = np.mean(-y_batch*np.log2(y_pred) -\n",
    "                           (1-y_batch)*np.log2(1-y_pred))\n",
    "        reg = np.sum(self.weights[1:]**2)/self.C\n",
    "        return loss + reg\n",
    "\n",
    "    def calc_loss_grad(self, X_batch, y_batch):\n",
    "        \"\"\"\n",
    "        Считаем  градиент функции потерь по батчу (то что Вы вывели в задании 1)\n",
    "        X_batch - матрица объекты-признаки по батчу\n",
    "        y_batch - вектор ответов по батчу\n",
    "        Не забудте тип модели (линейная или логистическая регрессия)!\n",
    "        \"\"\"\n",
    "\n",
    "        # Добавим единичный признак\n",
    "        X_batch = np.hstack(\n",
    "            (np.ones(X_batch.shape[0]).reshape(X_batch.shape[0], -1), X_batch))\n",
    "\n",
    "        a = np.dot(X_batch, self.weights)\n",
    "        if self.model_type == 'log_reg':\n",
    "            a = sigmoid(a)\n",
    "        a -= y_batch\n",
    "\n",
    "        loss_grad = np.dot(a, X_batch)/X_batch.shape[0]\n",
    "\n",
    "        reg_grad = np.array([0, *(self.weights[1:]/self.C)])\n",
    "\n",
    "        if self.model_type == 'lin_reg':\n",
    "            loss_grad *= 2/X_batch.shape[1]\n",
    "            reg_grad /= X_batch.shape[1]\n",
    "\n",
    "        loss_grad += 2 * reg_grad\n",
    "\n",
    "        return loss_grad\n",
    "\n",
    "    def update_weights(self, new_grad):\n",
    "        \"\"\"\n",
    "        Обновляем вектор весов\n",
    "        new_grad - градиент по батчу\n",
    "        \"\"\"\n",
    "        self.weights -= (self.alpha*new_grad)\n",
    "\n",
    "    def fit(self, X, y):\n",
    "        '''\n",
    "        Обучение модели\n",
    "        X - матрица объекты-признаки\n",
    "        y - вектор ответов\n",
    "        '''\n",
    "\n",
    "        # Нужно инициализровать случайно веса\n",
    "\n",
    "        self.weights = np.random.uniform(size=(X.shape[1]+1))\n",
    "\n",
    "        for n in range(0, self.max_epoch):\n",
    "            new_epoch_generator = self.batch_generator(\n",
    "                X, y, batch_size=self.batch_size)\n",
    "            for batch_num, new_batch in enumerate(new_epoch_generator):\n",
    "                X_batch = new_batch[0]\n",
    "                y_batch = new_batch[1]\n",
    "\n",
    "                batch_grad = self.calc_loss_grad(X_batch, y_batch)\n",
    "\n",
    "                self.update_weights(batch_grad)\n",
    "                # Подумайте в каком месте стоит посчитать ошибку для отладки модели\n",
    "                # До градиентного шага или после\n",
    "                batch_loss = self.calc_loss(X_batch, y_batch)\n",
    "                self.errors_log['iter'].append(batch_num)\n",
    "                self.errors_log['loss'].append(batch_loss)\n",
    "\n",
    "        return self\n",
    "\n",
    "    def predict(self, X):\n",
    "        '''\n",
    "        Предсказание класса\n",
    "        X - матрица объекты-признаки\n",
    "        Не забудте тип модели (линейная или логистическая регрессия)!\n",
    "        '''\n",
    "\n",
    "        # Желательно здесь использовать матричные операции между X и весами, например, numpy.dot\n",
    "        X = np.hstack((np.ones(X.shape[0]).reshape(X.shape[0], -1), X))\n",
    "        y_hat = np.dot(X, self.weights)\n",
    "        if self.model_type == 'lin_reg':\n",
    "            y_hat[y_hat >= 0] = 1.\n",
    "            y_hat[y_hat < 0] = 0.\n",
    "\n",
    "        if self.model_type == 'log_reg':\n",
    "            y_hat = sigmoid(y_hat)\n",
    "            y_hat[y_hat >= self.threshold] = 1.\n",
    "            y_hat[y_hat < self.threshold] = 0.\n",
    "        return y_hat"
   ]
  },
  {
   "cell_type": "markdown",
   "metadata": {},
   "source": [
    "Запустите обе регрессии на синтетических данных. \n",
    "\n",
    "\n",
    "Выведите полученные веса и нарисуйте разделяющую границу между классами (используйте только первых два веса для первых двух признаков X[:,0], X[:,1] для отображения в 2d пространство ).  "
   ]
  },
  {
   "cell_type": "code",
   "execution_count": 8,
   "metadata": {},
   "outputs": [],
   "source": [
    "def plot_decision_boundary(clf):\n",
    "    x_plot = np.linspace(X.min(), X.max(), num=100)\n",
    "    y_plot = np.array(\n",
    "        (-clf.weights[0] - clf.weights[1] * x_plot)/clf.weights[2])\n",
    "    if clf.model_type == 'log_reg':\n",
    "        label = 'logistic'\n",
    "    else:\n",
    "        label = 'linear'\n",
    "    plt.plot(x_plot, y_plot, label=label)\n",
    "    plt.legend(fontsize=15)"
   ]
  },
  {
   "cell_type": "code",
   "execution_count": 9,
   "metadata": {},
   "outputs": [
    {
     "data": {
      "image/png": "[encoded data removed]",
      "text/plain": [
       "<Figure size 864x360 with 1 Axes>"
      ]
     },
     "metadata": {},
     "output_type": "display_data"
    }
   ],
   "source": [
    "np.random.seed(0)\n",
    "\n",
    "C1 = np.array([[0., -0.8], [1.5, 0.8]])\n",
    "C2 = np.array([[1., -0.7], [2., 0.7]])\n",
    "gauss1 = np.dot(np.random.randn(200, 2) + np.array([5, 3]), C1)\n",
    "gauss2 = np.dot(np.random.randn(200, 2) + np.array([1.5, 0]), C2)\n",
    "\n",
    "X = np.vstack([gauss1, gauss2])\n",
    "y = np.r_[np.ones(200), np.zeros(200)]\n",
    "\n",
    "plt.scatter(X[:, 0], X[:, 1], c=y)\n",
    "\n",
    "my_clf = MySGDClassifier(batch_generator, C=200,\n",
    "                         model_type='lin_reg', alpha=0.05, max_epoch=30)\n",
    "my_clf.fit(X, 2*y-1)\n",
    "my_clf_log = MySGDClassifier(batch_generator, model_type='log_reg',\n",
    "                             alpha=0.01, C=1000)\n",
    "my_clf_log.fit(X, y)\n",
    "\n",
    "plt.xlim(-5, 8)\n",
    "plt.ylim(-5, 2)\n",
    "plot_decision_boundary(my_clf)\n",
    "plot_decision_boundary(my_clf_log)"
   ]
  },
  {
   "cell_type": "markdown",
   "metadata": {},
   "source": [
    "Далее будем анализировать Ваш алгоритм. \n",
    "Для этих заданий используйте датасет ниже."
   ]
  },
  {
   "cell_type": "code",
   "execution_count": 10,
   "metadata": {},
   "outputs": [],
   "source": [
    "from sklearn.datasets import make_classification"
   ]
  },
  {
   "cell_type": "code",
   "execution_count": 11,
   "metadata": {},
   "outputs": [],
   "source": [
    "X, y = make_classification(n_samples=100000, n_features=10,\n",
    "                           n_informative=4, n_redundant=0,\n",
    "                           random_state=123, class_sep=1.0,\n",
    "                           n_clusters_per_class=1)"
   ]
  },
  {
   "cell_type": "markdown",
   "metadata": {},
   "source": [
    "Покажите сходимости обеих регрессией на этом датасете: изобразите график  функции потерь, усредненной по $N$ шагам градиентого спуска, для разных `alpha` (размеров шага). Разные `alpha` расположите на одном графике. \n",
    "\n",
    "$N$ можно брать 10, 50, 100 и т.д. "
   ]
  },
  {
   "cell_type": "code",
   "execution_count": 12,
   "metadata": {},
   "outputs": [],
   "source": [
    "# Your Code Here\n",
    "alphas = np.linspace(0.1, 1, 5)\n",
    "N = 100"
   ]
  },
  {
   "cell_type": "code",
   "execution_count": 13,
   "metadata": {},
   "outputs": [],
   "source": [
    "# Your Code Here\n",
    "alpha_array = np.linspace(0.1, 1, 5)\n",
    "N = 100\n",
    "plot_log = []\n",
    "\n",
    "plot_lin = []\n",
    "for alpha in alpha_array:\n",
    "    clf_lin = MySGDClassifier(\n",
    "        batch_generator, alpha=alpha, batch_size=100, C=1000, max_epoch=20)\n",
    "    clf_log = MySGDClassifier(batch_generator, alpha=alpha,\n",
    "                              model_type='log_reg', batch_size=100, C=1000, max_epoch=20)\n",
    "\n",
    "    clf_lin.fit(X, 2*y-1)\n",
    "    clf_log.fit(X, y)\n",
    "\n",
    "    max_epoch = clf_lin.max_epoch\n",
    "\n",
    "    log_loss = []\n",
    "    lin_loss = []\n",
    "\n",
    "    loss_mean_lin = np.mean(\n",
    "        (np.array_split(clf_lin.errors_log['loss'], max_epoch)), axis=1)\n",
    "\n",
    "    loss_log = np.array(clf_log.errors_log['loss'])\n",
    "    lin_log = np.array(clf_lin.errors_log['loss'])\n",
    "    for i in range(loss_log.shape[0] // N):\n",
    "        log_loss.append(loss_log[i * N: (i + 1) * N].mean())\n",
    "        lin_loss.append(lin_log[i * N: (i + 1) * N].mean())\n",
    "\n",
    "    plot_log.append(log_loss)\n",
    "    plot_lin.append(lin_loss)"
   ]
  },
  {
   "cell_type": "code",
   "execution_count": 14,
   "metadata": {},
   "outputs": [
    {
     "data": {
      "text/plain": [
       "[]"
      ]
     },
     "execution_count": 14,
     "metadata": {},
     "output_type": "execute_result"
    },
    {
     "data": {
      "image/png": "[encoded data removed]",
      "text/plain": [
       "<Figure size 1008x504 with 1 Axes>"
      ]
     },
     "metadata": {},
     "output_type": "display_data"
    }
   ],
   "source": [
    "fig = plt.figure(figsize=(14, 7))\n",
    "for i, alpha in enumerate(alpha_array):\n",
    "    plt.plot(plot_log[i][:], label='$\\\\alpha$=%f' % (alpha))\n",
    "plt.subplots_adjust(wspace=0.0, hspace=0.2)\n",
    "plt.legend()\n",
    "plt.title('Logistic')\n",
    "plt.plot()"
   ]
  },
  {
   "cell_type": "code",
   "execution_count": 15,
   "metadata": {},
   "outputs": [
    {
     "data": {
      "text/plain": [
       "[]"
      ]
     },
     "execution_count": 15,
     "metadata": {},
     "output_type": "execute_result"
    },
    {
     "data": {
      "image/png": "[encoded data removed]",
      "text/plain": [
       "<Figure size 1008x504 with 1 Axes>"
      ]
     },
     "metadata": {},
     "output_type": "display_data"
    }
   ],
   "source": [
    "fig = plt.figure(figsize=(14, 7))\n",
    "for i, alpha in enumerate(alpha_array):\n",
    "    plt.plot(plot_lin[i][0:], label='$\\\\alpha$=%f' % (alpha))\n",
    "plt.subplots_adjust(wspace=0.0, hspace=0.2)\n",
    "plt.legend()\n",
    "plt.title('Linear')\n",
    "plt.plot()"
   ]
  },
  {
   "cell_type": "markdown",
   "metadata": {},
   "source": [
    "Что Вы можете сказать про сходимость метода при различных `alpha`? Какое значение стоит выбирать для лучшей сходимости?"
   ]
  },
  {
   "cell_type": "markdown",
   "metadata": {},
   "source": [
    "Сходимость происходит быстрее при больших `alpha`, но и ошибка больше. При маленьких `alpha` получаем обратную ситуацию"
   ]
  },
  {
   "cell_type": "markdown",
   "metadata": {},
   "source": [
    "Изобразите график среднего значения весов для обеих регрессий в зависимости от коеф. регуляризации С из `np.logspace(3, -3, 10)` "
   ]
  },
  {
   "cell_type": "code",
   "execution_count": 16,
   "metadata": {},
   "outputs": [
    {
     "name": "stderr",
     "output_type": "stream",
     "text": [
      "<ipython-input-7-d7aeccb67c4b>:51: RuntimeWarning: divide by zero encountered in log2\n",
      "  (1-y_batch)*np.log2(1-y_pred))\n",
      "<ipython-input-7-d7aeccb67c4b>:51: RuntimeWarning: invalid value encountered in multiply\n",
      "  (1-y_batch)*np.log2(1-y_pred))\n",
      "<ipython-input-7-d7aeccb67c4b>:11: RuntimeWarning: overflow encountered in exp\n",
      "  return 1/(1+np.exp(-x))\n",
      "<ipython-input-7-d7aeccb67c4b>:50: RuntimeWarning: divide by zero encountered in log2\n",
      "  loss = np.mean(-y_batch*np.log2(y_pred) -\n",
      "<ipython-input-7-d7aeccb67c4b>:50: RuntimeWarning: invalid value encountered in multiply\n",
      "  loss = np.mean(-y_batch*np.log2(y_pred) -\n",
      "<ipython-input-7-d7aeccb67c4b>:52: RuntimeWarning: overflow encountered in double_scalars\n",
      "  reg = np.sum(self.weights[1:]**2)/self.C\n",
      "/home/kirill/.local/lib/python3.8/site-packages/numpy/core/fromnumeric.py:87: RuntimeWarning: overflow encountered in reduce\n",
      "  return ufunc.reduce(obj, axis, dtype, out, **passkwargs)\n",
      "<ipython-input-7-d7aeccb67c4b>:52: RuntimeWarning: overflow encountered in square\n",
      "  reg = np.sum(self.weights[1:]**2)/self.C\n",
      "<ipython-input-16-dcbb1785dc90>:16: RuntimeWarning: overflow encountered in multiply\n",
      "  weights_log.append((clf_log.weights*clf_log.weights).mean())\n",
      "<ipython-input-7-d7aeccb67c4b>:74: RuntimeWarning: overflow encountered in true_divide\n",
      "  reg_grad = np.array([0, *(self.weights[1:]/self.C)])\n",
      "<ipython-input-7-d7aeccb67c4b>:80: RuntimeWarning: overflow encountered in multiply\n",
      "  loss_grad += 2 * reg_grad\n"
     ]
    }
   ],
   "source": [
    "# Your Code Here\n",
    "C_array = np.logspace(3, -3, 10)\n",
    "weights_log = []\n",
    "weights_lin = []\n",
    "for C in C_array:\n",
    "    clf_lin = MySGDClassifier(\n",
    "        batch_generator, batch_size=10000, alpha=0.01, C=C, max_epoch=50)\n",
    "    clf_log = MySGDClassifier(batch_generator, batch_size=10000,\n",
    "                              alpha=0.01, model_type='log_reg', C=C, max_epoch=50)\n",
    "\n",
    "    clf_lin.fit(X, 2*y-1)\n",
    "    clf_log.fit(X, y)\n",
    "\n",
    "    weights_lin.append((clf_lin.weights*clf_lin.weights).mean())\n",
    "\n",
    "    weights_log.append((clf_log.weights*clf_log.weights).mean())"
   ]
  },
  {
   "cell_type": "code",
   "execution_count": 17,
   "metadata": {},
   "outputs": [
    {
     "data": {
      "text/plain": [
       "Text(0, 0.5, 'mean_weights')"
      ]
     },
     "execution_count": 17,
     "metadata": {},
     "output_type": "execute_result"
    },
    {
     "data": {
      "image/png": "[encoded data removed]",
      "text/plain": [
       "<Figure size 864x360 with 1 Axes>"
      ]
     },
     "metadata": {},
     "output_type": "display_data"
    }
   ],
   "source": [
    "plt.plot(C_array, weights_log, label='logistic')\n",
    "plt.title('Logistic')\n",
    "plt.xlabel('C')\n",
    "plt.ylabel('mean_weights')"
   ]
  },
  {
   "cell_type": "code",
   "execution_count": 18,
   "metadata": {},
   "outputs": [
    {
     "data": {
      "text/plain": [
       "Text(0, 0.5, 'mean_weights')"
      ]
     },
     "execution_count": 18,
     "metadata": {},
     "output_type": "execute_result"
    },
    {
     "data": {
      "image/png": "[encoded data removed]",
      "text/plain": [
       "<Figure size 864x360 with 1 Axes>"
      ]
     },
     "metadata": {},
     "output_type": "display_data"
    }
   ],
   "source": [
    "plt.plot(C_array, weights_lin, label='linear')\n",
    "plt.title('Linear')\n",
    "plt.xlabel('C')\n",
    "plt.ylabel('mean_weights')"
   ]
  },
  {
   "cell_type": "markdown",
   "metadata": {},
   "source": [
    "Довольны ли Вы, насколько сильно уменьшились Ваши веса? "
   ]
  },
  {
   "cell_type": "markdown",
   "metadata": {},
   "source": [
    "# Боевое применение (4  балла)\n",
    "\n",
    "**Защита данной части возможна только при преодолении в проекте бейзлайна Handmade baseline.**"
   ]
  },
  {
   "cell_type": "markdown",
   "metadata": {},
   "source": [
    "Давайте применим модель на итоговом проекте! Датасет сделаем точно таким же образом, как было показано в project_overview.ipynb\n",
    "\n",
    "Применим обе регрессии, подберем для них параметры и сравним качество. Может быть Вы еще одновременно с решением домашней работы подрастете на лидерборде!"
   ]
  },
  {
   "cell_type": "code",
   "execution_count": 19,
   "metadata": {},
   "outputs": [
    {
     "name": "stdout",
     "output_type": "stream",
     "text": [
      "28026\n"
     ]
    }
   ],
   "source": [
    "doc_to_title = {}\n",
    "with open('docs_titles.tsv') as f:\n",
    "    for num_line, line in enumerate(f):\n",
    "        if num_line == 0:\n",
    "            continue\n",
    "        data = line.strip().split('\\t', 1)\n",
    "        doc_id = int(data[0])\n",
    "        if len(data) == 1:\n",
    "            title = ''\n",
    "        else:\n",
    "            title = data[1]\n",
    "        doc_to_title[doc_id] = title\n",
    "print(len(doc_to_title))"
   ]
  },
  {
   "cell_type": "code",
   "execution_count": 20,
   "metadata": {},
   "outputs": [],
   "source": [
    "import pandas as pd\n",
    "train_data = pd.read_csv('train_groups.csv')\n",
    "traingroups_titledata = {}\n",
    "for i in range(len(train_data)):\n",
    "    new_doc = train_data.iloc[i]\n",
    "    doc_group = new_doc['group_id']\n",
    "    doc_id = new_doc['doc_id']\n",
    "    target = new_doc['target']\n",
    "    title = doc_to_title[doc_id]\n",
    "    if doc_group not in traingroups_titledata:\n",
    "        traingroups_titledata[doc_group] = []\n",
    "    traingroups_titledata[doc_group].append((doc_id, title, target))"
   ]
  },
  {
   "cell_type": "code",
   "execution_count": 21,
   "metadata": {},
   "outputs": [
    {
     "name": "stdout",
     "output_type": "stream",
     "text": [
      "(11690, 15) (11690,) (11690,)\n"
     ]
    }
   ],
   "source": [
    "import numpy as np\n",
    "y_train = []\n",
    "X_train = []\n",
    "groups_train = []\n",
    "for new_group in traingroups_titledata:\n",
    "    docs = traingroups_titledata[new_group]\n",
    "    for k, (doc_id, title, target_id) in enumerate(docs):\n",
    "        y_train.append(target_id)\n",
    "        groups_train.append(new_group)\n",
    "        all_dist = []\n",
    "        words = set(title.strip().split())\n",
    "        for j in range(0, len(docs)):\n",
    "            if k == j:\n",
    "                continue\n",
    "            doc_id_j, title_j, target_j = docs[j]\n",
    "            words_j = set(title_j.strip().split())\n",
    "            all_dist.append(len(words.intersection(words_j)))\n",
    "        X_train.append(sorted(all_dist, reverse=True)[0:15])\n",
    "X_train = np.array(X_train)\n",
    "y_train = np.array(y_train)\n",
    "groups_train = np.array(groups_train)\n",
    "print(X_train.shape, y_train.shape, groups_train.shape)"
   ]
  },
  {
   "cell_type": "markdown",
   "metadata": {},
   "source": [
    "Подберите размер батча для обучения. Линейная модель не должна учиться дольше нескольких минут. \n",
    "\n",
    "Не забывайте использовать скейлер!"
   ]
  },
  {
   "cell_type": "code",
   "execution_count": 22,
   "metadata": {},
   "outputs": [],
   "source": [
    "from sklearn.metrics import f1_score, make_scorer\n",
    "from sklearn.linear_model import LinearRegression\n",
    "from sklearn.preprocessing import StandardScaler\n",
    "from sklearn.model_selection import GroupKFold, cross_val_score, GridSearchCV"
   ]
  },
  {
   "cell_type": "markdown",
   "metadata": {},
   "source": [
    "Разбейте данные на обучение и валидацию. Подберите параметры C, alpha, max_epoch, model_type на валидации (Вы же помните, как правильно в этой задаче делать валидацию?)"
   ]
  },
  {
   "cell_type": "code",
   "execution_count": 23,
   "metadata": {},
   "outputs": [],
   "source": [
    "scaler = StandardScaler()\n",
    "\n",
    "X_train_scaled = scaler.fit_transform(X_train)"
   ]
  },
  {
   "cell_type": "code",
   "execution_count": 24,
   "metadata": {},
   "outputs": [],
   "source": [
    "clf_log = MySGDClassifier(\n",
    "    batch_generator, batch_size=100, model_type='log_reg')"
   ]
  },
  {
   "cell_type": "code",
   "execution_count": 25,
   "metadata": {},
   "outputs": [],
   "source": [
    "param_grid = {'C': [100, 1000, np.inf],\n",
    "              'alpha': np.logspace(-4, -1, 6),\n",
    "              'max_epoch': list(range(8, 20, 2))}"
   ]
  },
  {
   "cell_type": "code",
   "execution_count": 26,
   "metadata": {},
   "outputs": [],
   "source": [
    "grid_search = GridSearchCV(clf_log, param_grid, cv=GroupKFold(\n",
    "    n_splits=5), scoring=make_scorer(f1_score))"
   ]
  },
  {
   "cell_type": "code",
   "execution_count": 27,
   "metadata": {},
   "outputs": [
    {
     "name": "stderr",
     "output_type": "stream",
     "text": [
      "/home/kirill/.local/lib/python3.8/site-packages/sklearn/utils/validation.py:67: FutureWarning: Pass groups=[  1   1   1 ... 129 129 129] as keyword args. From version 0.25 passing these as positional arguments will result in an error\n",
      "  warnings.warn(\"Pass {} as keyword args. From version 0.25 \"\n",
      "<ipython-input-7-d7aeccb67c4b>:51: RuntimeWarning: divide by zero encountered in log2\n",
      "  (1-y_batch)*np.log2(1-y_pred))\n",
      "<ipython-input-7-d7aeccb67c4b>:51: RuntimeWarning: invalid value encountered in multiply\n",
      "  (1-y_batch)*np.log2(1-y_pred))\n"
     ]
    },
    {
     "data": {
      "text/plain": [
       "GridSearchCV(cv=GroupKFold(n_splits=5),\n",
       "             estimator=MySGDClassifier(batch_generator=<function batch_generator at 0x7f5870337280>,\n",
       "                                       batch_size=100, model_type='log_reg'),\n",
       "             param_grid={'C': [100, 1000, inf],\n",
       "                         'alpha': array([0.0001    , 0.00039811, 0.00158489, 0.00630957, 0.02511886,\n",
       "       0.1       ]),\n",
       "                         'max_epoch': [8, 10, 12, 14, 16, 18]},\n",
       "             scoring=make_scorer(f1_score))"
      ]
     },
     "execution_count": 27,
     "metadata": {},
     "output_type": "execute_result"
    }
   ],
   "source": [
    "grid_search.fit(X_train_scaled, y_train, groups_train)"
   ]
  },
  {
   "cell_type": "code",
   "execution_count": 28,
   "metadata": {},
   "outputs": [
    {
     "data": {
      "text/plain": [
       "{'C': inf, 'alpha': 0.00630957344480193, 'max_epoch': 8}"
      ]
     },
     "execution_count": 28,
     "metadata": {},
     "output_type": "execute_result"
    }
   ],
   "source": [
    "grid_search.best_params_"
   ]
  },
  {
   "cell_type": "code",
   "execution_count": 29,
   "metadata": {},
   "outputs": [],
   "source": [
    "clf_log_best = grid_search.best_estimator_"
   ]
  },
  {
   "cell_type": "code",
   "execution_count": 30,
   "metadata": {},
   "outputs": [
    {
     "name": "stderr",
     "output_type": "stream",
     "text": [
      "<ipython-input-7-d7aeccb67c4b>:51: RuntimeWarning: divide by zero encountered in log2\n",
      "  (1-y_batch)*np.log2(1-y_pred))\n",
      "<ipython-input-7-d7aeccb67c4b>:51: RuntimeWarning: invalid value encountered in multiply\n",
      "  (1-y_batch)*np.log2(1-y_pred))\n"
     ]
    },
    {
     "data": {
      "text/plain": [
       "array([0.55299539, 0.62006079, 0.61196319, 0.56650586, 0.67476038])"
      ]
     },
     "execution_count": 30,
     "metadata": {},
     "output_type": "execute_result"
    }
   ],
   "source": [
    "cross_val_score(clf_log_best, X_train_scaled, y_train,\n",
    "                groups=groups_train, scoring=make_scorer(f1_score))"
   ]
  },
  {
   "cell_type": "code",
   "execution_count": 31,
   "metadata": {},
   "outputs": [
    {
     "name": "stderr",
     "output_type": "stream",
     "text": [
      "<ipython-input-7-d7aeccb67c4b>:51: RuntimeWarning: divide by zero encountered in log2\n",
      "  (1-y_batch)*np.log2(1-y_pred))\n",
      "<ipython-input-7-d7aeccb67c4b>:51: RuntimeWarning: invalid value encountered in multiply\n",
      "  (1-y_batch)*np.log2(1-y_pred))\n"
     ]
    },
    {
     "data": {
      "text/plain": [
       "0.5973785955384664"
      ]
     },
     "execution_count": 31,
     "metadata": {},
     "output_type": "execute_result"
    }
   ],
   "source": [
    "cross_val_score(clf_log_best, X_train_scaled, y_train,\n",
    "                groups=groups_train, scoring=make_scorer(f1_score)).mean()"
   ]
  },
  {
   "cell_type": "markdown",
   "metadata": {
    "collapsed": true
   },
   "source": [
    "Подберите порог линейной модели, по достижении которого, Вы будете относить объект к классу 1. Вспомните, какую метрику мы оптимизируем в соревновании.  Как тогда правильно подобрать порог?"
   ]
  },
  {
   "cell_type": "code",
   "execution_count": 32,
   "metadata": {},
   "outputs": [],
   "source": [
    "threshold = {'threshold': np.arange(0.3, 0.8, 0.05)}"
   ]
  },
  {
   "cell_type": "code",
   "execution_count": 33,
   "metadata": {},
   "outputs": [],
   "source": [
    "grid_search_threshold = GridSearchCV(clf_log_best, threshold, cv=GroupKFold(\n",
    "    n_splits=5), scoring=make_scorer(f1_score))"
   ]
  },
  {
   "cell_type": "code",
   "execution_count": 34,
   "metadata": {},
   "outputs": [
    {
     "name": "stderr",
     "output_type": "stream",
     "text": [
      "/home/kirill/.local/lib/python3.8/site-packages/sklearn/utils/validation.py:67: FutureWarning: Pass groups=[  1   1   1 ... 129 129 129] as keyword args. From version 0.25 passing these as positional arguments will result in an error\n",
      "  warnings.warn(\"Pass {} as keyword args. From version 0.25 \"\n",
      "<ipython-input-7-d7aeccb67c4b>:51: RuntimeWarning: divide by zero encountered in log2\n",
      "  (1-y_batch)*np.log2(1-y_pred))\n",
      "<ipython-input-7-d7aeccb67c4b>:51: RuntimeWarning: invalid value encountered in multiply\n",
      "  (1-y_batch)*np.log2(1-y_pred))\n"
     ]
    },
    {
     "data": {
      "text/plain": [
       "GridSearchCV(cv=GroupKFold(n_splits=5),\n",
       "             estimator=MySGDClassifier(C=inf, alpha=0.00630957344480193,\n",
       "                                       batch_generator=<function batch_generator at 0x7f5870337280>,\n",
       "                                       batch_size=100, max_epoch=8,\n",
       "                                       model_type='log_reg'),\n",
       "             param_grid={'threshold': array([0.3 , 0.35, 0.4 , 0.45, 0.5 , 0.55, 0.6 , 0.65, 0.7 , 0.75])},\n",
       "             scoring=make_scorer(f1_score))"
      ]
     },
     "execution_count": 34,
     "metadata": {},
     "output_type": "execute_result"
    }
   ],
   "source": [
    "grid_search_threshold.fit(X_train_scaled, y_train, groups_train)"
   ]
  },
  {
   "cell_type": "code",
   "execution_count": 35,
   "metadata": {},
   "outputs": [
    {
     "data": {
      "text/plain": [
       "{'threshold': 0.44999999999999996}"
      ]
     },
     "execution_count": 35,
     "metadata": {},
     "output_type": "execute_result"
    }
   ],
   "source": [
    "grid_search_threshold.best_params_"
   ]
  },
  {
   "cell_type": "code",
   "execution_count": 36,
   "metadata": {},
   "outputs": [],
   "source": [
    "clf_log_best = grid_search_threshold.best_estimator_"
   ]
  },
  {
   "cell_type": "code",
   "execution_count": 37,
   "metadata": {},
   "outputs": [
    {
     "name": "stderr",
     "output_type": "stream",
     "text": [
      "<ipython-input-7-d7aeccb67c4b>:51: RuntimeWarning: divide by zero encountered in log2\n",
      "  (1-y_batch)*np.log2(1-y_pred))\n",
      "<ipython-input-7-d7aeccb67c4b>:51: RuntimeWarning: invalid value encountered in multiply\n",
      "  (1-y_batch)*np.log2(1-y_pred))\n"
     ]
    },
    {
     "data": {
      "text/plain": [
       "0.6094257188865223"
      ]
     },
     "execution_count": 37,
     "metadata": {},
     "output_type": "execute_result"
    }
   ],
   "source": [
    "cross_val_score(clf_log_best, X_train_scaled, y_train,\n",
    "                groups=groups_train, scoring=make_scorer(f1_score)).mean()"
   ]
  },
  {
   "cell_type": "markdown",
   "metadata": {},
   "source": [
    "С лучшими параметрами на валидации сделайте предсказание на тестовом множестве, отправьте его на проверку на платформу kaggle. Убедитесь, что Вы смогли побить public score первого бейзлайна."
   ]
  },
  {
   "cell_type": "code",
   "execution_count": 38,
   "metadata": {},
   "outputs": [],
   "source": [
    "test_data = pd.read_csv('test_groups.csv')\n",
    "testgroups_titledata = {}\n",
    "for i in range(len(test_data)):\n",
    "    new_doc = test_data.iloc[i]\n",
    "    doc_group = new_doc['group_id']\n",
    "    doc_id = new_doc['doc_id']\n",
    "    title = doc_to_title[doc_id]\n",
    "    if doc_group not in testgroups_titledata:\n",
    "        testgroups_titledata[doc_group] = []\n",
    "    testgroups_titledata[doc_group].append((doc_id, title))"
   ]
  },
  {
   "cell_type": "code",
   "execution_count": 39,
   "metadata": {},
   "outputs": [
    {
     "name": "stdout",
     "output_type": "stream",
     "text": [
      "(16627, 15) (16627,)\n"
     ]
    }
   ],
   "source": [
    "X_test = []\n",
    "groups_test = []\n",
    "for new_group in testgroups_titledata:\n",
    "    docs = testgroups_titledata[new_group]\n",
    "    for k, (doc_id, title) in enumerate(docs):\n",
    "        groups_test.append(new_group)\n",
    "        all_dist = []\n",
    "        words = set(title.strip().split())\n",
    "        for j in range(0, len(docs)):\n",
    "            if k == j:\n",
    "                continue\n",
    "            doc_id_j, title_j = docs[j]\n",
    "            words_j = set(title_j.strip().split())\n",
    "            all_dist.append(len(words.intersection(words_j)))\n",
    "        X_test.append(sorted(all_dist, reverse=True)[0:15])\n",
    "X_test = np.array(X_test)\n",
    "groups_test = np.array(groups_test)\n",
    "print(X_test.shape, groups_test.shape)"
   ]
  },
  {
   "cell_type": "code",
   "execution_count": 40,
   "metadata": {},
   "outputs": [],
   "source": [
    "X_test_scaled = scaler.transform(X_test)\n",
    "\n",
    "y_pred = clf_log_best.predict(X_test_scaled)\n",
    "\n",
    "y_pred = y_pred.astype(int)\n",
    "\n",
    "answer = pd.DataFrame({'pair_id': np.asarray(\n",
    "    test_data['pair_id']), 'target': y_pred})\n",
    "\n",
    "answer = answer.set_index(['pair_id'])\n",
    "\n",
    "answer.to_csv('submission.csv')"
   ]
  },
  {
   "cell_type": "markdown",
   "metadata": {
    "collapsed": true
   },
   "source": [
    "** При сдаче домашки Вам необходимо кроме ссылки на ноутбук показать Ваш ник на kaggle, под которым Вы залили решение, которое побило Handmade baseline. **"
   ]
  },
  {
   "cell_type": "markdown",
   "metadata": {
    "collapsed": true
   },
   "source": [
    "Kirill Kovalkov"
   ]
  },
  {
   "cell_type": "markdown",
   "metadata": {},
   "source": [
    "# Фидбек (бесценно)"
   ]
  },
  {
   "cell_type": "markdown",
   "metadata": {},
   "source": [
    "* Какие аспекты обучения линейных моделей Вам показались непонятными? Какое место стоит дополнительно объяснить?"
   ]
  },
  {
   "cell_type": "markdown",
   "metadata": {},
   "source": [
    "***Ваше ответ здесь***"
   ]
  },
  {
   "cell_type": "markdown",
   "metadata": {},
   "source": [
    "* Здесь Вы можете оставить отзыв о этой домашней работе или о всем курсе.   "
   ]
  },
  {
   "cell_type": "markdown",
   "metadata": {},
   "source": [
    "*** ВАШ ОТЗЫВ ЗДЕСЬ***"
   ]
  },
  {
   "cell_type": "code",
   "execution_count": null,
   "metadata": {},
   "outputs": [],
   "source": []
  },
  {
   "cell_type": "code",
   "execution_count": null,
   "metadata": {},
   "outputs": [],
   "source": []
  }
 ],
 "metadata": {
  "anaconda-cloud": {},
  "kernelspec": {
   "display_name": "Python 3",
   "language": "python",
   "name": "python3"
  },
  "language_info": {
   "codemirror_mode": {
    "name": "ipython",
    "version": 3
   },
   "file_extension": ".py",
   "mimetype": "text/x-python",
   "name": "python",
   "nbconvert_exporter": "python",
   "pygments_lexer": "ipython3",
   "version": "3.8.5"
  },
  "nav_menu": {},
  "toc": {
   "colors": {
    "hover_highlight": "#DAA520",
    "navigate_num": "#000000",
    "navigate_text": "#333333",
    "running_highlight": "#FF0000",
    "selected_highlight": "#FFD700",
    "sidebar_border": "#EEEEEE",
    "wrapper_background": "#FFFFFF"
   },
   "moveMenuLeft": true,
   "nav_menu": {
    "height": "402px",
    "width": "253px"
   },
   "navigate_menu": true,
   "number_sections": false,
   "sideBar": true,
   "threshold": 4,
   "toc_cell": false,
   "toc_section_display": "block",
   "toc_window_display": true,
   "widenNotebook": false
  }
 },
 "nbformat": 4,
 "nbformat_minor": 2
}
